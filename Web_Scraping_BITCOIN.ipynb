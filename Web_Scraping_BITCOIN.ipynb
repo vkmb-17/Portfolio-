{
  "nbformat": 4,
  "nbformat_minor": 0,
  "metadata": {
    "colab": {
      "provenance": [],
      "include_colab_link": true
    },
    "kernelspec": {
      "name": "python3",
      "display_name": "Python 3"
    },
    "language_info": {
      "name": "python"
    }
  },
  "cells": [
    {
      "cell_type": "markdown",
      "metadata": {
        "id": "view-in-github",
        "colab_type": "text"
      },
      "source": [
        "<a href=\"https://colab.research.google.com/github/vkmb-17/Arq/blob/main/Web_Scraping_BITCOIN.ipynb\" target=\"_parent\"><img src=\"https://colab.research.google.com/assets/colab-badge.svg\" alt=\"Open In Colab\"/></a>"
      ]
    },
    {
      "cell_type": "markdown",
      "source": [
        "#BITCOIN EM USD - VICTOR KAUAN MORENO DE BRITO"
      ],
      "metadata": {
        "id": "cgHPGE_WD2-R"
      }
    },
    {
      "cell_type": "markdown",
      "source": [
        "### Dados coletados entre 13h e 18h de 28/06/2023"
      ],
      "metadata": {
        "id": "UeTFMTghEEZM"
      }
    },
    {
      "cell_type": "markdown",
      "source": [
        "#IMPORTAÇAO DAS BIBLIOTECAS"
      ],
      "metadata": {
        "id": "h4pXilX6oXmA"
      }
    },
    {
      "cell_type": "code",
      "source": [
        "!pip install requests                                                            # Instalação de REQUESTS\n",
        "!pip install beautifulsoup4                                                      # Beautifulsoup4\n",
        "!pip install psycopg2-binary                                                     # Instalação de PSYCOPG2-BINARY\n",
        "\n",
        "#_________________________________________________________________________________________________________________________\n",
        "\n",
        "import time                                                                      # Importação de TIME\n",
        "import psycopg2                                                                  # Importação de PSYCOPG2\n",
        "import requests                                                                  # Importação de REQUESTS\n",
        "import datetime                                                                  # Importação de DATETIME\n",
        "import bs4 as bs                                                                 # Importação de BS4\n",
        "import pandas as pd                                                              # Importação de PANDAS\n",
        "import seaborn as sns                                                            # Importação de SEABORN\n",
        "from bs4 import BeautifulSoup                                                    # Importação de BEAUTIFULSOUP\n",
        "import matplotlib.pyplot as plt                                                  # Importação de MATPLOTLIB\n",
        "\n",
        "#_________________________________________________________________________________________________________________________\n",
        "\n",
        "sns.set()                                                                        # Definição de todos os gráficos em seaborn"
      ],
      "metadata": {
        "id": "4xT0eskJidaF"
      },
      "execution_count": null,
      "outputs": []
    },
    {
      "cell_type": "markdown",
      "source": [
        "#BANCO DE DADOS"
      ],
      "metadata": {
        "id": "joEUSM2Uog1w"
      }
    },
    {
      "cell_type": "code",
      "source": [
        "#_________________________________________________________________________________________________________________________\n",
        "\n",
        "conn = psycopg2.connect(                                                        # Conexão com banco de dados\n",
        "    host=\"dataiesb.iesbtech.com.br\",                                            # Host do banco de dados\n",
        "    port=5432,                                                                  # Porta do banco de dados\n",
        "    dbname=\"postgres\",                                                          # Nome do banco de dados\n",
        "    user=\"2212120023_Victor\",                                                   # Usuário do banco de dados\n",
        "    password=\"2212120023\"                                                       # Senha do banco de dados\n",
        ")\n",
        "\n",
        "#_________________________________________________________________________________________________________________________\n",
        "\n",
        "csr = conn.cursor()                                                             # Definição de variável como cursor da conexão"
      ],
      "metadata": {
        "id": "CMkeilf5igD7"
      },
      "execution_count": null,
      "outputs": []
    },
    {
      "cell_type": "markdown",
      "source": [
        "#WEB SCRAPING"
      ],
      "metadata": {
        "id": "zulq50bxpKjt"
      }
    },
    {
      "cell_type": "markdown",
      "source": [
        "######LISTA E VARIÁVEIS"
      ],
      "metadata": {
        "id": "ErEq5_J-pOIN"
      }
    },
    {
      "cell_type": "code",
      "source": [
        "#_________________________________________________________________________________________________________________________\n",
        "\n",
        "hoje = datetime.datetime.today()                                                # Variável que recebe horário atual\n",
        "linha_dados = ()                                                                   # Variável que recebe uma tupla vazia\n",
        "dados = []                                                                      # Variável que recebe uma lista vazia"
      ],
      "metadata": {
        "id": "xIgv-lqgiiey"
      },
      "execution_count": null,
      "outputs": []
    },
    {
      "cell_type": "markdown",
      "source": [
        "######DEFINIÇÃO DE HORÁRIO"
      ],
      "metadata": {
        "id": "d_kfd0P7pZZ8"
      }
    },
    {
      "cell_type": "code",
      "source": [
        "while(datetime.datetime.now().hour-3 <= 18):                                    # Verificação de horário\n",
        "\n",
        "#_________________________________________________________________________________________________________________________\n",
        "\n",
        "  if (csr.execute(\"\"\"SELECT COUNT(*) FROM bitcoin\"\"\"))==None:                   # Condicional de conexão com o banco\n",
        "    j = j+1                                                                     # Correção do horário\n",
        "  else:                                                                         # Condicional ELSE\n",
        "    j = int(csr.execute(\"\"\"SELECT COUNT(*) FROM bitcoin\"\"\"))+1                  # Condicional de conexão com o banco corrigindo horário\n",
        "\n",
        "#_________________________________________________________________________________________________________________________\n",
        "\n",
        "  hoje = datetime.datetime.today()                                              # Redefinição da variável de horário"
      ],
      "metadata": {
        "id": "ic-i65t7o5x1"
      },
      "execution_count": null,
      "outputs": []
    },
    {
      "cell_type": "markdown",
      "source": [
        "######CONEXÃO COM SITE ( beautifulsoup )"
      ],
      "metadata": {
        "id": "lFX_oYlbpqxt"
      }
    },
    {
      "cell_type": "code",
      "source": [
        "#_________________________________________________________________________________________________________________________\n",
        "\n",
        "  link = \"https://finance.yahoo.com/crypto/\"                                     # Variável que recebe o link URL\n",
        "  pagina = requests.get(link)                                                      # Requisição para a página URL\n",
        "  soup = bs.BeautifulSoup(pagina.content, \"html.parser\")                          # Leitura do html com função .parser"
      ],
      "metadata": {
        "id": "BBxrvHElo8ht"
      },
      "execution_count": null,
      "outputs": []
    },
    {
      "cell_type": "markdown",
      "source": [
        "######LIMPEZA DO HTML"
      ],
      "metadata": {
        "id": "NehUNaPpp3f0"
      }
    },
    {
      "cell_type": "code",
      "source": [
        "#_________________________________________________________________________________________________________________________\n",
        "\n",
        "  resultados = soup.find(id=\"scr-res-table\")                                                                                                                                   # Recolher resultados encontrados\n",
        "  elementos = resultados.find(\"tr\", class_ = \"simpTblRow Bgc($hoverBgColor):h BdB Bdbc($seperatorColor) Bdbc($tableBorderBlue):h H(32px) Bgc($lv2BgColor)\")                     # Filtrar elementos no html\n",
        "\n",
        "#_________________________________________________________________________________________________________________________\n",
        "\n",
        "  simbolo = elementos.find(\"a\", class_=\"Fw(600) C($linkColor)\").text                                                # Encontrar simbolo BTC USD no html\n",
        "  nome = elementos.find(\"td\", attrs={\"aria-label\": \"Name\"}).text                                                    # Encontrar nome BITCOIN USD no html\n",
        "  preco = (str(elementos.find('td', attrs={\"aria-label\": \"Price (Intraday)\"}).text)).replace(\",\",\"\")                # Encontrar preço no html\n",
        "  var_percentual = str((elementos.find('td', attrs={\"aria-label\": \"% Change\"}).text)).replace(\"%\",\"\")               # Encontrar variação percentual no html\n",
        "  variacao = str((elementos.find('td', attrs={\"aria-label\": \"Change\"}).text)).replace(\"M\",\"000000\")                 # Encontrar variação precificada no html\n",
        "\n",
        "#_________________________________________________________________________________________________________________________\n",
        "\n",
        "  linha_dados = (str(j), str(hoje.year), str(hoje.month), str(hoje.day), str(hoje.hour-3), str(hoje.minute), str(simbolo), str(nome), str(preco), str(variacao), str(var_percentual))  # Organização dos dados\n",
        "  dados.append(linha_dados)                                                                                                                                                    # Adicionar dados a nova variável\n",
        "\n",
        "#_________________________________________________________________________________________________________________________\n",
        "\n",
        "  inserirbanco = ','.join(csr.mogrify(\"(%s,%s,%s,%s,%s,%s,%s,%s,%s,%s,%s)\", i).decode('utf-8')                    # Organização dos dados e decode utf-8\n",
        "                  for i in dados)                                                                                 # Repetição \"for\" para a variável criada anteriormente\n",
        "  csr.execute(\"INSERT INTO bitcoin VALUES \" + (inserirbanco))                                                     # Inserir dados no banco BITCOIN\n",
        "  conn.commit()                                                                                                   # Função para banco de dados\n",
        "  dados = []                                                                                                      # Zerando dados da variável criada\n",
        "  time.sleep(60-datetime.datetime.now().second)                                                                   # Sincronização de tempo"
      ],
      "metadata": {
        "id": "Vr-xWxHjo_yF"
      },
      "execution_count": null,
      "outputs": []
    },
    {
      "cell_type": "markdown",
      "source": [
        "#ANÁLISE DE DADOS"
      ],
      "metadata": {
        "id": "tbnzWSEdoo2t"
      }
    },
    {
      "cell_type": "markdown",
      "source": [
        "######CRIAÇÃO DF"
      ],
      "metadata": {
        "id": "MmaOP1ftp758"
      }
    },
    {
      "cell_type": "code",
      "source": [
        "#_________________________________________________________________________________________________________________________\n",
        "\n",
        "csr.execute(\"\"\"SELECT * FROM bitcoin\"\"\")                                        # Seleciona tabela BITCOIN\n",
        "all_dados = csr.fetchall()                                                      # Seleciona todos os dados\n",
        "\n",
        "#_________________________________________________________________________________________________________________________\n",
        "\n",
        "df = pd.DataFrame(all_dados, columns=[i[0] for i in csr.description])            # Define a criação do data frame com todos os dados\n",
        "\n",
        "#_________________________________________________________________________________________________________________________\n",
        "\n",
        "df['hour'] = pd.to_numeric(df['hour'])                                          # Conversão de coluna \"hour\" para numérica\n",
        "df['minute'] = pd.to_numeric(df['minute'])                                      # Conversão de coluna \"minute\" para numérica\n",
        "df['price'] = pd.to_numeric(df['price'])                                        # Conversão de coluna \"price\" para numérica\n",
        "df['change'] = pd.to_numeric(df['change'])                                      # Conversão de coluna \"change\" para numérica\n",
        "df['change_pct'] = pd.to_numeric(df['change_pct'])                              # Conversão de coluna \"change_pct\" para numérica"
      ],
      "metadata": {
        "id": "xN3jUM6yipG3"
      },
      "execution_count": null,
      "outputs": []
    },
    {
      "cell_type": "markdown",
      "source": [
        "######GRÁFICO"
      ],
      "metadata": {
        "id": "t07MEYViqDRk"
      }
    },
    {
      "cell_type": "code",
      "source": [
        "df.head(326)"
      ],
      "metadata": {
        "colab": {
          "base_uri": "https://localhost:8080/",
          "height": 424
        },
        "id": "OvZVCQCNqmpj",
        "outputId": "e876b1fc-e010-4193-9e18-dcc0cc286d1c"
      },
      "execution_count": null,
      "outputs": [
        {
          "output_type": "execute_result",
          "data": {
            "text/plain": [
              "      id  year month day  hour  minute   symbol         name     price  \\\n",
              "0      1  2023     6  28    13      32  BTC-USD  Bitcoin USD  30415.35   \n",
              "1      2  2023     6  28    13      33  BTC-USD  Bitcoin USD  30415.35   \n",
              "2      3  2023     6  28    13      34  BTC-USD  Bitcoin USD  30366.06   \n",
              "3      4  2023     6  28    13      35  BTC-USD  Bitcoin USD  30366.06   \n",
              "4      5  2023     6  28    13      36  BTC-USD  Bitcoin USD  30366.06   \n",
              "..   ...   ...   ...  ..   ...     ...      ...          ...       ...   \n",
              "321  322  2023     6  28    18      54  BTC-USD  Bitcoin USD  30167.75   \n",
              "322  323  2023     6  28    18      55  BTC-USD  Bitcoin USD  30167.75   \n",
              "323  324  2023     6  28    18      56  BTC-USD  Bitcoin USD  30167.75   \n",
              "324  325  2023     6  28    18      57  BTC-USD  Bitcoin USD  30167.75   \n",
              "325  326  2023     6  28    18      58  BTC-USD  Bitcoin USD  30147.90   \n",
              "\n",
              "     change  change_pct  \n",
              "0    -81.52       -0.27  \n",
              "1    -81.52       -0.27  \n",
              "2   -205.81       -0.67  \n",
              "3   -205.81       -0.67  \n",
              "4   -205.81       -0.67  \n",
              "..      ...         ...  \n",
              "321 -530.23       -1.73  \n",
              "322 -530.23       -1.73  \n",
              "323 -530.23       -1.73  \n",
              "324 -530.23       -1.73  \n",
              "325 -574.24       -1.87  \n",
              "\n",
              "[326 rows x 11 columns]"
            ],
            "text/html": [
              "\n",
              "  <div id=\"df-fcbb9ebf-f709-4525-b384-4f3095c28851\">\n",
              "    <div class=\"colab-df-container\">\n",
              "      <div>\n",
              "<style scoped>\n",
              "    .dataframe tbody tr th:only-of-type {\n",
              "        vertical-align: middle;\n",
              "    }\n",
              "\n",
              "    .dataframe tbody tr th {\n",
              "        vertical-align: top;\n",
              "    }\n",
              "\n",
              "    .dataframe thead th {\n",
              "        text-align: right;\n",
              "    }\n",
              "</style>\n",
              "<table border=\"1\" class=\"dataframe\">\n",
              "  <thead>\n",
              "    <tr style=\"text-align: right;\">\n",
              "      <th></th>\n",
              "      <th>id</th>\n",
              "      <th>year</th>\n",
              "      <th>month</th>\n",
              "      <th>day</th>\n",
              "      <th>hour</th>\n",
              "      <th>minute</th>\n",
              "      <th>symbol</th>\n",
              "      <th>name</th>\n",
              "      <th>price</th>\n",
              "      <th>change</th>\n",
              "      <th>change_pct</th>\n",
              "    </tr>\n",
              "  </thead>\n",
              "  <tbody>\n",
              "    <tr>\n",
              "      <th>0</th>\n",
              "      <td>1</td>\n",
              "      <td>2023</td>\n",
              "      <td>6</td>\n",
              "      <td>28</td>\n",
              "      <td>13</td>\n",
              "      <td>32</td>\n",
              "      <td>BTC-USD</td>\n",
              "      <td>Bitcoin USD</td>\n",
              "      <td>30415.35</td>\n",
              "      <td>-81.52</td>\n",
              "      <td>-0.27</td>\n",
              "    </tr>\n",
              "    <tr>\n",
              "      <th>1</th>\n",
              "      <td>2</td>\n",
              "      <td>2023</td>\n",
              "      <td>6</td>\n",
              "      <td>28</td>\n",
              "      <td>13</td>\n",
              "      <td>33</td>\n",
              "      <td>BTC-USD</td>\n",
              "      <td>Bitcoin USD</td>\n",
              "      <td>30415.35</td>\n",
              "      <td>-81.52</td>\n",
              "      <td>-0.27</td>\n",
              "    </tr>\n",
              "    <tr>\n",
              "      <th>2</th>\n",
              "      <td>3</td>\n",
              "      <td>2023</td>\n",
              "      <td>6</td>\n",
              "      <td>28</td>\n",
              "      <td>13</td>\n",
              "      <td>34</td>\n",
              "      <td>BTC-USD</td>\n",
              "      <td>Bitcoin USD</td>\n",
              "      <td>30366.06</td>\n",
              "      <td>-205.81</td>\n",
              "      <td>-0.67</td>\n",
              "    </tr>\n",
              "    <tr>\n",
              "      <th>3</th>\n",
              "      <td>4</td>\n",
              "      <td>2023</td>\n",
              "      <td>6</td>\n",
              "      <td>28</td>\n",
              "      <td>13</td>\n",
              "      <td>35</td>\n",
              "      <td>BTC-USD</td>\n",
              "      <td>Bitcoin USD</td>\n",
              "      <td>30366.06</td>\n",
              "      <td>-205.81</td>\n",
              "      <td>-0.67</td>\n",
              "    </tr>\n",
              "    <tr>\n",
              "      <th>4</th>\n",
              "      <td>5</td>\n",
              "      <td>2023</td>\n",
              "      <td>6</td>\n",
              "      <td>28</td>\n",
              "      <td>13</td>\n",
              "      <td>36</td>\n",
              "      <td>BTC-USD</td>\n",
              "      <td>Bitcoin USD</td>\n",
              "      <td>30366.06</td>\n",
              "      <td>-205.81</td>\n",
              "      <td>-0.67</td>\n",
              "    </tr>\n",
              "    <tr>\n",
              "      <th>...</th>\n",
              "      <td>...</td>\n",
              "      <td>...</td>\n",
              "      <td>...</td>\n",
              "      <td>...</td>\n",
              "      <td>...</td>\n",
              "      <td>...</td>\n",
              "      <td>...</td>\n",
              "      <td>...</td>\n",
              "      <td>...</td>\n",
              "      <td>...</td>\n",
              "      <td>...</td>\n",
              "    </tr>\n",
              "    <tr>\n",
              "      <th>321</th>\n",
              "      <td>322</td>\n",
              "      <td>2023</td>\n",
              "      <td>6</td>\n",
              "      <td>28</td>\n",
              "      <td>18</td>\n",
              "      <td>54</td>\n",
              "      <td>BTC-USD</td>\n",
              "      <td>Bitcoin USD</td>\n",
              "      <td>30167.75</td>\n",
              "      <td>-530.23</td>\n",
              "      <td>-1.73</td>\n",
              "    </tr>\n",
              "    <tr>\n",
              "      <th>322</th>\n",
              "      <td>323</td>\n",
              "      <td>2023</td>\n",
              "      <td>6</td>\n",
              "      <td>28</td>\n",
              "      <td>18</td>\n",
              "      <td>55</td>\n",
              "      <td>BTC-USD</td>\n",
              "      <td>Bitcoin USD</td>\n",
              "      <td>30167.75</td>\n",
              "      <td>-530.23</td>\n",
              "      <td>-1.73</td>\n",
              "    </tr>\n",
              "    <tr>\n",
              "      <th>323</th>\n",
              "      <td>324</td>\n",
              "      <td>2023</td>\n",
              "      <td>6</td>\n",
              "      <td>28</td>\n",
              "      <td>18</td>\n",
              "      <td>56</td>\n",
              "      <td>BTC-USD</td>\n",
              "      <td>Bitcoin USD</td>\n",
              "      <td>30167.75</td>\n",
              "      <td>-530.23</td>\n",
              "      <td>-1.73</td>\n",
              "    </tr>\n",
              "    <tr>\n",
              "      <th>324</th>\n",
              "      <td>325</td>\n",
              "      <td>2023</td>\n",
              "      <td>6</td>\n",
              "      <td>28</td>\n",
              "      <td>18</td>\n",
              "      <td>57</td>\n",
              "      <td>BTC-USD</td>\n",
              "      <td>Bitcoin USD</td>\n",
              "      <td>30167.75</td>\n",
              "      <td>-530.23</td>\n",
              "      <td>-1.73</td>\n",
              "    </tr>\n",
              "    <tr>\n",
              "      <th>325</th>\n",
              "      <td>326</td>\n",
              "      <td>2023</td>\n",
              "      <td>6</td>\n",
              "      <td>28</td>\n",
              "      <td>18</td>\n",
              "      <td>58</td>\n",
              "      <td>BTC-USD</td>\n",
              "      <td>Bitcoin USD</td>\n",
              "      <td>30147.90</td>\n",
              "      <td>-574.24</td>\n",
              "      <td>-1.87</td>\n",
              "    </tr>\n",
              "  </tbody>\n",
              "</table>\n",
              "<p>326 rows × 11 columns</p>\n",
              "</div>\n",
              "      <button class=\"colab-df-convert\" onclick=\"convertToInteractive('df-fcbb9ebf-f709-4525-b384-4f3095c28851')\"\n",
              "              title=\"Convert this dataframe to an interactive table.\"\n",
              "              style=\"display:none;\">\n",
              "        \n",
              "  <svg xmlns=\"http://www.w3.org/2000/svg\" height=\"24px\"viewBox=\"0 0 24 24\"\n",
              "       width=\"24px\">\n",
              "    <path d=\"M0 0h24v24H0V0z\" fill=\"none\"/>\n",
              "    <path d=\"M18.56 5.44l.94 2.06.94-2.06 2.06-.94-2.06-.94-.94-2.06-.94 2.06-2.06.94zm-11 1L8.5 8.5l.94-2.06 2.06-.94-2.06-.94L8.5 2.5l-.94 2.06-2.06.94zm10 10l.94 2.06.94-2.06 2.06-.94-2.06-.94-.94-2.06-.94 2.06-2.06.94z\"/><path d=\"M17.41 7.96l-1.37-1.37c-.4-.4-.92-.59-1.43-.59-.52 0-1.04.2-1.43.59L10.3 9.45l-7.72 7.72c-.78.78-.78 2.05 0 2.83L4 21.41c.39.39.9.59 1.41.59.51 0 1.02-.2 1.41-.59l7.78-7.78 2.81-2.81c.8-.78.8-2.07 0-2.86zM5.41 20L4 18.59l7.72-7.72 1.47 1.35L5.41 20z\"/>\n",
              "  </svg>\n",
              "      </button>\n",
              "      \n",
              "  <style>\n",
              "    .colab-df-container {\n",
              "      display:flex;\n",
              "      flex-wrap:wrap;\n",
              "      gap: 12px;\n",
              "    }\n",
              "\n",
              "    .colab-df-convert {\n",
              "      background-color: #E8F0FE;\n",
              "      border: none;\n",
              "      border-radius: 50%;\n",
              "      cursor: pointer;\n",
              "      display: none;\n",
              "      fill: #1967D2;\n",
              "      height: 32px;\n",
              "      padding: 0 0 0 0;\n",
              "      width: 32px;\n",
              "    }\n",
              "\n",
              "    .colab-df-convert:hover {\n",
              "      background-color: #E2EBFA;\n",
              "      box-shadow: 0px 1px 2px rgba(60, 64, 67, 0.3), 0px 1px 3px 1px rgba(60, 64, 67, 0.15);\n",
              "      fill: #174EA6;\n",
              "    }\n",
              "\n",
              "    [theme=dark] .colab-df-convert {\n",
              "      background-color: #3B4455;\n",
              "      fill: #D2E3FC;\n",
              "    }\n",
              "\n",
              "    [theme=dark] .colab-df-convert:hover {\n",
              "      background-color: #434B5C;\n",
              "      box-shadow: 0px 1px 3px 1px rgba(0, 0, 0, 0.15);\n",
              "      filter: drop-shadow(0px 1px 2px rgba(0, 0, 0, 0.3));\n",
              "      fill: #FFFFFF;\n",
              "    }\n",
              "  </style>\n",
              "\n",
              "      <script>\n",
              "        const buttonEl =\n",
              "          document.querySelector('#df-fcbb9ebf-f709-4525-b384-4f3095c28851 button.colab-df-convert');\n",
              "        buttonEl.style.display =\n",
              "          google.colab.kernel.accessAllowed ? 'block' : 'none';\n",
              "\n",
              "        async function convertToInteractive(key) {\n",
              "          const element = document.querySelector('#df-fcbb9ebf-f709-4525-b384-4f3095c28851');\n",
              "          const dataTable =\n",
              "            await google.colab.kernel.invokeFunction('convertToInteractive',\n",
              "                                                     [key], {});\n",
              "          if (!dataTable) return;\n",
              "\n",
              "          const docLinkHtml = 'Like what you see? Visit the ' +\n",
              "            '<a target=\"_blank\" href=https://colab.research.google.com/notebooks/data_table.ipynb>data table notebook</a>'\n",
              "            + ' to learn more about interactive tables.';\n",
              "          element.innerHTML = '';\n",
              "          dataTable['output_type'] = 'display_data';\n",
              "          await google.colab.output.renderOutput(dataTable, element);\n",
              "          const docLink = document.createElement('div');\n",
              "          docLink.innerHTML = docLinkHtml;\n",
              "          element.appendChild(docLink);\n",
              "        }\n",
              "      </script>\n",
              "    </div>\n",
              "  </div>\n",
              "  "
            ]
          },
          "metadata": {},
          "execution_count": 5
        }
      ]
    },
    {
      "cell_type": "code",
      "source": [
        "#_________________________________________________________________________________________________________________________\n",
        "# https://br.tradingview.com/ - RECOMENDAÇÃO DE ANÁLISE\n",
        "\n",
        "\n",
        "df.plot(color = 'green',figsize = (10,6), y='price')                            # Criação do gráfico ( PREÇO / REGISTRO ___ 13H - 18H )"
      ],
      "metadata": {
        "colab": {
          "base_uri": "https://localhost:8080/",
          "height": 544
        },
        "id": "85UPfJP0rS8T",
        "outputId": "19562d4c-b53a-47d8-ce93-26cb3de31622"
      },
      "execution_count": null,
      "outputs": [
        {
          "output_type": "execute_result",
          "data": {
            "text/plain": [
              "<Axes: >"
            ]
          },
          "metadata": {},
          "execution_count": 13
        },
        {
          "output_type": "display_data",
          "data": {
            "text/plain": [
              "<Figure size 1000x600 with 1 Axes>"
            ],
            "image/png": "[encoded data removed]"
          },
          "metadata": {}
        }
      ]
    }
  ]
}