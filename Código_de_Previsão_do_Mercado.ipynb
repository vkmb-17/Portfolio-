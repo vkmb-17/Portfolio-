{
  "nbformat": 4,
  "nbformat_minor": 0,
  "metadata": {
    "colab": {
      "provenance": [],
      "include_colab_link": true
    },
    "kernelspec": {
      "name": "python3",
      "display_name": "Python 3"
    },
    "language_info": {
      "name": "python"
    }
  },
  "cells": [
    {
      "cell_type": "markdown",
      "metadata": {
        "id": "view-in-github",
        "colab_type": "text"
      },
      "source": [
        "<a href=\"https://colab.research.google.com/github/vkmb-17/Portfolio-/blob/main/C%C3%B3digo_de_Previs%C3%A3o_do_Mercado.ipynb\" target=\"_parent\"><img src=\"https://colab.research.google.com/assets/colab-badge.svg\" alt=\"Open In Colab\"/></a>"
      ]
    },
    {
      "cell_type": "code",
      "execution_count": null,
      "metadata": {
        "id": "o-hsUw-rskoL",
        "colab": {
          "base_uri": "https://localhost:8080/"
        },
        "outputId": "d6fb97e5-547d-4912-821f-573949a5937f"
      },
      "outputs": [
        {
          "output_type": "stream",
          "name": "stdout",
          "text": [
            "IMPORTANTE! Nenhuma projeção apresentada é garantida, são usadas apenas técnicas de trading que preveem a possibilidade do mercado realizar tal movimento\n"
          ]
        }
      ],
      "source": [
        "#VICTOR KAUAN MORENO DE BRITO - Criação de gráficos para previsão de investimentos a partir de técnicas de trade\n",
        "\n",
        "# OBS: O Algoritmo funciona a partir de dados que são inseridos pelo usuário, sobre preços de ativos hipoteticos ou reais\n",
        "# traçando em seguida a projeção do mercado se obedecida as técnicas de trade\n",
        "\n",
        "print(\"IMPORTANTE! Nenhuma projeção apresentada é garantida, são usadas apenas técnicas de trading que preveem a possibilidade do mercado realizar tal movimento\")"
      ]
    },
    {
      "cell_type": "code",
      "source": [
        "# Importação das Bibliotecas\n",
        "import matplotlib.pyplot as plt\n",
        "import math"
      ],
      "metadata": {
        "id": "EvNGcbswRupw"
      },
      "execution_count": null,
      "outputs": []
    },
    {
      "cell_type": "code",
      "source": [
        "# GRÁFICO DA LINHA DE TENDÊNCIA\n",
        "\n",
        "# Introdutório para usar o algoritmo\n",
        "print(\"\\nLINHA DE TENDÊNCIA, é quando o mercado realiza movimentos dentro de uma faixa estável de preço!\\n\")\n",
        "print(\"Para continuar, saiba que:\\n\\n- Fundo é o valor mínimo que mercado atingiu\\n- Topo o é valor máximo que o mercado atingiu\\n- Ponto Seguinte é o valor atingido depois da variação anterior! \\n\\nEstes serão usados para calcular a linha de tendência do mercado! Exemplo (R$11, R$9.50, R$13.40)\\n\\n\")\n",
        "\n",
        "# Inserindo informações iniciais sobre o mercado em tipo float\n",
        "a = float(input(\"Inserir fundo ou topo do mercado: R$\"))\n",
        "b = float(input(\"Inserir fundo ou topo do mercado: R$\"))\n",
        "c = float(input(\"Inserir o ponto seguinte do mercado: R$\"))\n",
        "\n",
        "# Informação sobre a técnica de trade \"linha de tendência\"\n",
        "print(\"\\nConsiderando uma LINHA DE TENDÊNCIA, a previsão do mercado é:\")\n",
        "\n",
        "# 1º condicional: Se o mercado começa em alta, segue uma baixa, e a alta seguinte não é maior que a anterior, é construído um gráfico indicando o ponto de compra e venda do ativo\n",
        "if a > b < c:\n",
        "    pontos = [\"começo\", \"entrada\", \"queda\", \"alta\", \"compra\", \"venda\", \"queda.\", \"fim\"]\n",
        "\n",
        "    d = c - (a - b)\n",
        "    e = d + (c - b)                             # Cálculo para o gráfico\n",
        "    f = e - (c - d)\n",
        "    aa = a\n",
        "    ff = f\n",
        "\n",
        "# 2º condicional: Se o mercado começa em alta, e segue em constante baixa, é construído um gráfico indicando o ponto de compra e em seguida instrução para hold\n",
        "if a > b > c:\n",
        "    pontos = [\"começo\", \"entrada\", \"queda\", \"queda.\", \"queda..\", \"compra\", \"hold\", \"fim\"]\n",
        "\n",
        "    d = c - (a - b)\n",
        "    e = d + (c - b)                              # Cálculo para o gráfico\n",
        "    f = e - (c - d)\n",
        "    aa = a\n",
        "    ff = f\n",
        "\n",
        "# 3º condiconal: Se o mercado começa em alta, e segue em constante alta, é construído um gráfico indicando o ponto de compra, seguido da instrução de hold e o ponto de venda\n",
        "if a < b < c:\n",
        "    pontos = [\"começo\", \"entrada\", \"alta\", \"alta.\", \"compra\", \"hold\", \"venda\", \"fim\"]\n",
        "\n",
        "    d = c - (a - b)\n",
        "    e = d + (c - b)                              # Cálculo para o gráfico\n",
        "    f = e - (c - d)\n",
        "    aa = a\n",
        "    ff = f\n",
        "\n",
        "# 4º condicional: Se o mercado começa em baixa, segue em alta, e a baixa seguinte não é menor que a anterior, é construído um gráfico indicando o ponto de compra e venda do ativo\n",
        "if a < b > c:\n",
        "    pontos = [\"começo\", \"entrada\", \"alta\", \"queda\", \"alta.\", \"compra\", \"venda\", \"fim\"]\n",
        "\n",
        "    d = c + (b - a)\n",
        "    e = d - (b - c)                              # Cálculo para o gráfico\n",
        "    f = e + (d - c)\n",
        "    aa = a\n",
        "    ff = f\n",
        "\n",
        "# Declaração da lista usada no gráfico, contendo os valores inseridos e os calculados\n",
        "valores = [aa, a, b, c, d, e, f, ff]\n",
        "\n",
        "# Configuração da tabela\n",
        "plt.plot(pontos, valores, 'k--')                  # Criação de pontilhados para o gráfico\n",
        "plt.plot(pontos, valores, 'go')                   # Criação de pontos para o gráfico\n",
        "plt.show()                                        # Criação do gráfico\n",
        "\n",
        "# Aviso sobre desconsiderar valores abaixo de zero, caso apareçam no gráfico\n",
        "if f < 0: print(\"Desconsiderar valores abaixo de zero!\")\n",
        "\n",
        "# Condicionais de informação sobre as compras e vendas de ativos\n",
        "if a > b < c: print(\"compra: R${} reais\\nvenda: R${} reais\".format(\"%.2f\"%d, \"%.2f\"%e))\n",
        "if a > b > c: print(\"compra: R${} reais\".format(\"%.2f\"%e))\n",
        "if a < b < c: print(\"compra: R${} reais\\nvenda: R${} reais\".format(\"%.2f\"%d, \"%.2f\"%f))\n",
        "if a < b > c: print(\"compra: R${} reais\\nvenda: R${} reais\".format(\"%.2f\"%e, \"%.2f\"%f))\n"
      ],
      "metadata": {
        "id": "r3eNEEYdCCKh",
        "colab": {
          "base_uri": "https://localhost:8080/",
          "height": 596
        },
        "outputId": "f4a68e0a-975c-4e5f-fc50-e707c125702e"
      },
      "execution_count": null,
      "outputs": [
        {
          "output_type": "stream",
          "name": "stdout",
          "text": [
            "\n",
            "LINHA DE TENDÊNCIA, é quando o mercado realiza movimentos dentro de uma faixa estável de preço!\n",
            "\n",
            "Para continuar, saiba que:\n",
            "\n",
            "- Fundo é o valor mínimo que mercado atingiu\n",
            "- Topo o é valor máximo que o mercado atingiu\n",
            "- Ponto Seguinte é o valor atingido depois da variação anterior! \n",
            "\n",
            "Estes serão usados para calcular a linha de tendência do mercado! Exemplo (R$11, R$9.50, R$13.40)\n",
            "\n",
            "\n",
            "Inserir fundo ou topo do mercado: R$11\n",
            "Inserir fundo ou topo do mercado: R$9.50\n",
            "Inserir o ponto seguinte do mercado: R$13.40\n",
            "\n",
            "Considerando uma LINHA DE TENDÊNCIA, a previsão do mercado é:\n"
          ]
        },
        {
          "output_type": "display_data",
          "data": {
            "text/plain": [
              "<Figure size 432x288 with 1 Axes>"
            ],
            "image/png": "[encoded data removed]"
          },
          "metadata": {
            "needs_background": "light"
          }
        },
        {
          "output_type": "stream",
          "name": "stdout",
          "text": [
            "compra: R$11.90 reais\n",
            "venda: R$15.80 reais\n"
          ]
        }
      ]
    },
    {
      "cell_type": "code",
      "source": [
        "#  GRÁFICO DA REGRA DOS 50%\n",
        "\n",
        "# Zerando valor das variáveis float antes do cálculo\n",
        "aa = 0\n",
        "dd = 0\n",
        "ff = 0\n",
        "a = 0\n",
        "b = 0\n",
        "c = 0\n",
        "d = 0\n",
        "e = 0\n",
        "f = 0\n",
        "# Introdutório para usar o algoritmo\n",
        "print(\"Para continuar, saiba que:\\n\\nRegra dos 50% somente acontece caso o terceiro ponto 'rompimento' do mercado atinja a metade da diferença de valor\\nentre o primeiro ponto 'entrada' e o segundo ponto 'média', e siga radicalmente uma tendência oposta!\\nExemplo (R$15, R$10, R$12.50) ou (R$10, R$15, R$12.50)\\n\\nOBS: Em caso de tendência de alta, realizar compra no rompimento, do contrário, vender o ativo e comprar novamente no fim da tendência de baixa!\\n\\n\")\n",
        "\n",
        "# Inserindo informações iniciais sobre o mercado em tipo float\n",
        "a = float(input(\"Inserir a entrada do mercado: R$\"))\n",
        "b = float(input(\"Inserir a média do mercado: R$\"))\n",
        "c = float(input(\"Inserir o possivel rompimento do mercado: R$\"))\n",
        "\n",
        "# Informação sobre a técnica de trade \"regra dos 50%\"\n",
        "print(\"\\nConsiderando a REGRA DOS 50%:\")\n",
        "\n",
        "# 1º condicional: Se o rompimento é menor que a entrada e maior que a média, e atinge metade do preço da variação, o rompimento ocorre com uma forte tendência de baixa\n",
        "if c == ((a - b) / 2) + b and c > b:\n",
        "\n",
        "    ponto = [\"começo\", \"entrada\", \"média\", \"rompimento\", \"tendência\", \"fim\"]\n",
        "    d = b - (a / 10)\n",
        "    aa = a                                        # Cálculo para o gráfico\n",
        "    dd = d\n",
        "\n",
        "    valores = [aa, a, b, c, d, dd]                # Valores do gráfico\n",
        "    plt.plot(ponto, valores, 'k--')               # Criação de pontilhados no gráfico\n",
        "    plt.plot(ponto, valores, 'go')                # Criação de pontos no gráfico\n",
        "    plt.show()                                    # Criação do gráfico\n",
        "\n",
        "\n",
        "# 2º condicional: Se o rompimento é maior que a entrada e menor que média, e atinge metade do preço da variação, o rompimento ocorre com uma forte tendência de alta\n",
        "elif c == ((b - a) / 2) + a and c > a:\n",
        "\n",
        "    ponto = [\"começo\", \"entrada\", \"média\", \"rompimento\", \"tendência\", \"fim\"]\n",
        "    d = a + (b / 2)\n",
        "    aa = a                                        # Cálculo para o gráfico\n",
        "    dd = d\n",
        "\n",
        "    valores = [aa, a, b, c, d, dd]                # Valores do gráfico\n",
        "    plt.plot(ponto, valores, 'k--')               # Criação de pontilhados no gráfico\n",
        "    plt.plot(ponto, valores, 'go')                # Criação de pontos no gráfico\n",
        "    plt.show()                                    # Criação do gráfico\n",
        "\n",
        "# Caso os valores inseridos não correspondam ao método de análise, é printado na tela a mensagem a seguir\n",
        "else: print(\"Este molde não se aplica!\")\n",
        "\n",
        "# Caso os valores projetados apresentem pontos abaixo de zero, é printado na tela a mensagem a seguir\n",
        "if d < 0: print(\"Desconsiderar valores abaixo de zero!\")\n",
        "\n",
        "# De acordo com a tendência de mercado apresentada, é printado na tela a mensagem a seguir\n",
        "if c == ((a - b) / 2) + b and c > b: print(\"Não operar! risco de forte tendência de baixa!\")\n",
        "if c == ((b - a) / 2) + a and c > a: print(\"Operar compra no rompimento em R${} reais!\".format(\"%.2f\"%c))\n"
      ],
      "metadata": {
        "id": "oCvP4BinQpC6",
        "colab": {
          "base_uri": "https://localhost:8080/"
        },
        "outputId": "2fc62140-0f5b-456f-b9e2-e1f2534b4efc"
      },
      "execution_count": null,
      "outputs": [
        {
          "output_type": "stream",
          "name": "stdout",
          "text": [
            "Para continuar, saiba que:\n",
            "\n",
            "Regra dos 50% somente acontece caso o terceiro ponto 'rompimento' do mercado atinja a metade da diferença de valor\n",
            "entre o primeiro ponto 'entrada' e o segundo ponto 'média', e siga radicalmente uma tendência oposta!\n",
            "Exemplo (R$15, R$10, R$12.50) ou (R$10, R$15, R$12.50)\n",
            "\n",
            "OBS: Em caso de tendência de alta, realizar compra no rompimento, do contrário, vender o ativo e comprar novamente no fim da tendência de baixa!\n",
            "\n",
            "\n",
            "Inserir a entrada do mercado: R$9\n",
            "Inserir a média do mercado: R$4\n",
            "Inserir o possivel rompimento do mercado: R$8\n",
            "\n",
            "Considerando a REGRA DOS 50%:\n",
            "Este molde não se aplica!\n"
          ]
        }
      ]
    },
    {
      "cell_type": "code",
      "source": [
        "# GRÁFICO DO FALSO ROMPIMENTO\n",
        "\n",
        "# Zerando valor das variáveis float antes do cálculo\n",
        "a = 0\n",
        "b = 0\n",
        "c = 0\n",
        "d = 0\n",
        "e = 0\n",
        "f = 0\n",
        "aa = 0\n",
        "ff = 0\n",
        "\n",
        "# Introdutório para usar o algoritmo\n",
        "print(\"Para continuar, saiba que:\\n\\nGráfico do falso rompimento somente acontece caso o mercado ultrapasse a linha de tendência\\ne simule um retorno para a mesma, mas toca a linha e segue o movimento de rompimento\\nExemplo (R$7, R$5, R$12)\\n\\nOBS: Em caso de tendência de alta, realizar após o rompimento e o toque na linha de tendência, do contrário, não realizar qualquer operação!\\n\\n\")\n",
        "\n",
        "# Inserindo informações iniciais sobre o mercado em tipo float\n",
        "a = float(input(\"Inserir fundo ou topo do mercado: R$\"))\n",
        "b = float(input(\"Inserir fundo ou topo do mercado: R$\"))\n",
        "c = float(input(\"Inserir o ponto seguinte do mercado: R$\"))\n",
        "\n",
        "# Informação sobre a técnica de trade \"regra dos 50%\"\n",
        "print(\"\\nConsiderando o FALSO ROMPIMENTO:\")\n",
        "\n",
        "# 1º condicional: Se o mercado começa em alta, segue uma baixa, e a alta seguinte não é maior que a anterior,\n",
        "# é construído um gráfico indicando o ponto de rompimento, toque e queda do ativo\n",
        "if a > b < c:\n",
        "    pontos = [\"começo\", \"entrada\", \"baixa\", \"alta\", \"romp.\", \"toque\", \"queda\", \"fim\"]\n",
        "    d = c - ((a - b) + ((a - b) / 4))\n",
        "    e = d + ((a - b) / 17)\n",
        "    f = e - (a - b)                               # Cálculo para o gráfico\n",
        "    aa = a\n",
        "    ff = f\n",
        "\n",
        "    valores = [aa, a, b, c, d, e, f, ff]          # Valores do gráfico\n",
        "    plt.plot(pontos, valores, 'k--')              # Criação de pontilhados no gráfico\n",
        "    plt.plot(pontos, valores, 'go')               # Criação de pontos no gráfico\n",
        "    plt.show()                                    # Criação do gráfico\n",
        "\n",
        "# 2º condicional: Se o mercado começa em baixa, segue em alta, e a baixa seguinte não é menor que a anterior,\n",
        "# é construído um gráfico indicando o ponto de rompimento, compra e venda do ativo\n",
        "if a < b > c:\n",
        "    pontos = [\"começo\", \"entrada\", \"alta\", \"baixa\", \"romp.\", \"toque\", \"venda\", \"fim\"]\n",
        "    d = c + ((b - a) + ((b - a) / 4))\n",
        "    e = d - ((b - a) / 17)\n",
        "    f = e + (b - a)                               # Cálculo para o gráfico\n",
        "    aa = a\n",
        "    ff = f\n",
        "\n",
        "    valores = [aa, a, b, c, d, e, f, ff]          # Valores do gráfico\n",
        "    plt.plot(pontos, valores, 'k--')              # Criação de pontilhados no gráfico\n",
        "    plt.plot(pontos, valores, 'go')               # Criação de pontos no gráfico\n",
        "    plt.show()                                    # Criação do gráfico\n",
        "\n",
        "# Aviso sobre desconsiderar valores abaixo de zero, caso apareçam no gráfico\n",
        "if f < 0: print(\"Desconsiderar valores abaixo de zero!\")\n",
        "\n",
        "# Condicionais de informação sobre as compras e vendas de ativos\n",
        "if a < b > c: print(\"compra: R${} reais\\nvenda: R${} reais\".format(\"%.2f\"%e, \"%.2f\"%f))        # Caso \"a < b > c\" é indicado o ponto de compra e venda\n",
        "if a > b > c: print(\"Este molde não se aplica!\")                                               # Caso \"a > b > c\" é indicado que o molde não se aplica\n",
        "if a < b < c: print(\"Este molde não se aplica!\")                                               # Caso \"a < b < c\" é indicado que o molde não se aplica\n",
        "if a > b < c: print(\"Não realizar operação durante a queda\")                                    # Caso \"a > b < c\" é indicado que não deve realizar operação\n"
      ],
      "metadata": {
        "id": "V9oz7QGn5Gik",
        "colab": {
          "base_uri": "https://localhost:8080/",
          "height": 525
        },
        "outputId": "ba543083-14ed-4928-c231-f0bb99d87f16"
      },
      "execution_count": null,
      "outputs": [
        {
          "output_type": "stream",
          "name": "stdout",
          "text": [
            "Para continuar, saiba que:\n",
            "\n",
            "Gráfico do falso rompimento somente acontece caso o mercado ultrapasse a linha de tendência\n",
            "e simule um retorno para a mesma, mas toca a linha e segue o movimento de rompimento\n",
            "Exemplo (R$7, R$5, R$12)\n",
            "\n",
            "OBS: Em caso de tendência de alta, realizar após o rompimento e o toque na linha de tendência, do contrário, não realizar qualquer operação!\n",
            "\n",
            "\n",
            "Inserir fundo ou topo do mercado: R$7\n",
            "Inserir fundo ou topo do mercado: R$5\n",
            "Inserir o ponto seguinte do mercado: R$12\n",
            "\n",
            "Considerando o FALSO ROMPIMENTO:\n"
          ]
        },
        {
          "output_type": "display_data",
          "data": {
            "text/plain": [
              "<Figure size 432x288 with 1 Axes>"
            ],
            "image/png": "[encoded data removed]"
          },
          "metadata": {
            "needs_background": "light"
          }
        },
        {
          "output_type": "stream",
          "name": "stdout",
          "text": [
            "Não realizar operação antes da queda\n"
          ]
        }
      ]
    },
    {
      "cell_type": "markdown",
      "source": [
        "# Nova seção"
      ],
      "metadata": {
        "id": "9MAX5xmx_k4y"
      }
    }
  ]
}